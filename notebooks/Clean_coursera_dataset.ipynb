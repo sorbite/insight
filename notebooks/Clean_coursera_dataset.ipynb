{
 "cells": [
  {
   "cell_type": "code",
   "execution_count": 123,
   "metadata": {},
   "outputs": [],
   "source": [
    "import numpy as np\n",
    "import pandas as pd\n",
    "import re"
   ]
  },
  {
   "cell_type": "code",
   "execution_count": 124,
   "metadata": {},
   "outputs": [],
   "source": [
    "# Check double entry in the course_job column\n",
    "def check_double_entry(df):\n",
    "    df['checked_job'] = df.course_job.apply(lambda x: list(\n",
    "        ''.join(list(filter(lambda ch: ch not in \"[]'\", x))).split(', ')))\n",
    "    df.checked_job = df.checked_job.apply(lambda x: list(set(x)))\n",
    "    return df"
   ]
  },
  {
   "cell_type": "code",
   "execution_count": 129,
   "metadata": {},
   "outputs": [],
   "source": [
    "def clean_course_skill(df):\n",
    "    df['checked_skill'] = df.course_skill.apply(lambda x: list(\n",
    "        ''.join(list(filter(lambda ch: ch not in \"[]'\", x))).split(', ')))\n",
    "    return df"
   ]
  },
  {
   "cell_type": "code",
   "execution_count": 130,
   "metadata": {},
   "outputs": [],
   "source": [
    "def empty_to_null(df):\n",
    "    df.checked_skill = df.checked_skill.apply(\n",
    "        lambda x: np.nan if x == [''] else x)\n",
    "    df.checked_job = df.checked_job.apply(\n",
    "        lambda x: np.nan if x == [''] else x)\n",
    "    return df"
   ]
  },
  {
   "cell_type": "code",
   "execution_count": 131,
   "metadata": {},
   "outputs": [],
   "source": [
    "df_total = pd.DataFrame(columns=['course_title', 'course_rating',\n",
    "                                 'course_description', 'checked_job', 'checked_skill'])\n",
    "for csvfile in ['coursera_biginner.csv', 'coursera_mixed.csv', 'coursera_intermediate.csv', 'coursera_advanced.csv']:\n",
    "    df = pd.read_csv(csvfile)\n",
    "    df2 = check_double_entry(df)\n",
    "    df3 = clean_course_skill(df2)\n",
    "    df4 = empty_to_null(df3)\n",
    "    df5 = df4.drop(['course_link', 'course_skill',\n",
    "                    'course_job', 'course_type'], axis=1)\n",
    "    df_total = df_total.append(df5, ignore_index= True)"
   ]
  },
  {
   "cell_type": "code",
   "execution_count": 139,
   "metadata": {},
   "outputs": [
    {
     "data": {
      "text/plain": [
       "list"
      ]
     },
     "execution_count": 139,
     "metadata": {},
     "output_type": "execute_result"
    }
   ],
   "source": [
    "type(df_total.checked_skill[0])"
   ]
  },
  {
   "cell_type": "code",
   "execution_count": 141,
   "metadata": {},
   "outputs": [],
   "source": [
    "df_total.to_pickle('coursera_total.pkl')"
   ]
  },
  {
   "cell_type": "code",
   "execution_count": 142,
   "metadata": {},
   "outputs": [
    {
     "name": "stdout",
     "output_type": "stream",
     "text": [
      "<class 'pandas.core.frame.DataFrame'>\n",
      "RangeIndex: 2557 entries, 0 to 2556\n",
      "Data columns (total 5 columns):\n",
      "course_title          2557 non-null object\n",
      "course_rating         2557 non-null float64\n",
      "course_description    2557 non-null object\n",
      "checked_job           2493 non-null object\n",
      "checked_skill         1051 non-null object\n",
      "dtypes: float64(1), object(4)\n",
      "memory usage: 100.0+ KB\n"
     ]
    }
   ],
   "source": [
    "df_total.info()"
   ]
  },
  {
   "cell_type": "markdown",
   "metadata": {},
   "source": [
    "# First version: only use non-NaN rows"
   ]
  },
  {
   "cell_type": "code",
   "execution_count": 143,
   "metadata": {},
   "outputs": [
    {
     "data": {
      "text/html": [
       "<div>\n",
       "<style scoped>\n",
       "    .dataframe tbody tr th:only-of-type {\n",
       "        vertical-align: middle;\n",
       "    }\n",
       "\n",
       "    .dataframe tbody tr th {\n",
       "        vertical-align: top;\n",
       "    }\n",
       "\n",
       "    .dataframe thead th {\n",
       "        text-align: right;\n",
       "    }\n",
       "</style>\n",
       "<table border=\"1\" class=\"dataframe\">\n",
       "  <thead>\n",
       "    <tr style=\"text-align: right;\">\n",
       "      <th></th>\n",
       "      <th>course_title</th>\n",
       "      <th>course_rating</th>\n",
       "      <th>course_description</th>\n",
       "      <th>checked_job</th>\n",
       "      <th>checked_skill</th>\n",
       "    </tr>\n",
       "  </thead>\n",
       "  <tbody>\n",
       "    <tr>\n",
       "      <td>0</td>\n",
       "      <td>AI For Everyone</td>\n",
       "      <td>4.8</td>\n",
       "      <td>['AI is not only for engineers. If you want yo...</td>\n",
       "      <td>[Machine Learning Engineers, Product Managers,...</td>\n",
       "      <td>[Workflow of Machine Learning projects, AI ter...</td>\n",
       "    </tr>\n",
       "    <tr>\n",
       "      <td>1</td>\n",
       "      <td>SQL for Data Science</td>\n",
       "      <td>4.6</td>\n",
       "      <td>[\"As data collection has increased exponential...</td>\n",
       "      <td>[Business Analysts, Marketing Analysts, Risk M...</td>\n",
       "      <td>[Data Science, Data Analysis, Sqlite, SQL]</td>\n",
       "    </tr>\n",
       "    <tr>\n",
       "      <td>2</td>\n",
       "      <td>Project Launch</td>\n",
       "      <td>4.7</td>\n",
       "      <td>['Today’s fast track business and global envir...</td>\n",
       "      <td>[Program Coordinators, Project Managers, Produ...</td>\n",
       "      <td>[Project Management, Scope (Project Management...</td>\n",
       "    </tr>\n",
       "    <tr>\n",
       "      <td>3</td>\n",
       "      <td>Digital Transformation</td>\n",
       "      <td>4.8</td>\n",
       "      <td>['Digital transformation is a hot topic--but w...</td>\n",
       "      <td>[Chief Financial Officers (CFOs), Operations M...</td>\n",
       "      <td>[Technology Disruption, Digital Trends, Compet...</td>\n",
       "    </tr>\n",
       "    <tr>\n",
       "      <td>4</td>\n",
       "      <td>Technical Support Fundamentals</td>\n",
       "      <td>4.8</td>\n",
       "      <td>['This course is the first of a series that ai...</td>\n",
       "      <td>[IT Support, Customer Care Reps, Retailers, Te...</td>\n",
       "      <td>[Binary Code, Customer Support, Linux, Trouble...</td>\n",
       "    </tr>\n",
       "    <tr>\n",
       "      <td>...</td>\n",
       "      <td>...</td>\n",
       "      <td>...</td>\n",
       "      <td>...</td>\n",
       "      <td>...</td>\n",
       "      <td>...</td>\n",
       "    </tr>\n",
       "    <tr>\n",
       "      <td>2506</td>\n",
       "      <td>Advanced Linear Models for Data Science 1: Lea...</td>\n",
       "      <td>4.4</td>\n",
       "      <td>[\"Welcome to the Advanced Linear Models for Da...</td>\n",
       "      <td>[Scientists, Biologists, Economists, Traders, ...</td>\n",
       "      <td>[Statistics, Linear Regression, R Programming,...</td>\n",
       "    </tr>\n",
       "    <tr>\n",
       "      <td>2511</td>\n",
       "      <td>Advanced Algorithms and Complexity</td>\n",
       "      <td>4.6</td>\n",
       "      <td>[\"You've learned the basic algorithms now and ...</td>\n",
       "      <td>[Security Engineers, Software Engineers, Machi...</td>\n",
       "      <td>[Python Programming, Linear Programming (LP), ...</td>\n",
       "    </tr>\n",
       "    <tr>\n",
       "      <td>2512</td>\n",
       "      <td>Big Data, Genes, and Medicine</td>\n",
       "      <td>4.2</td>\n",
       "      <td>['This course distills for you expert knowledg...</td>\n",
       "      <td>[Researchers, Biostatisticians, Scientists, Bi...</td>\n",
       "      <td>[Bioinformatics, Data Clustering Algorithms, B...</td>\n",
       "    </tr>\n",
       "    <tr>\n",
       "      <td>2517</td>\n",
       "      <td>Big Data Applications: Real-Time Streaming</td>\n",
       "      <td>2.9</td>\n",
       "      <td>['There is a significant number of tasks when ...</td>\n",
       "      <td>[Software Engineers, Machine Learning Engineer...</td>\n",
       "      <td>[Kafka, NoSQL, Spark Streaming, Spark]</td>\n",
       "    </tr>\n",
       "    <tr>\n",
       "      <td>2518</td>\n",
       "      <td>Genome Assembly Programming Challenge</td>\n",
       "      <td>4.3</td>\n",
       "      <td>['In Spring 2011, thousands of people in Germa...</td>\n",
       "      <td>[Software Engineers, Machine Learning Engineer...</td>\n",
       "      <td>[Data Structure, Algorithms, Algorithm Design,...</td>\n",
       "    </tr>\n",
       "  </tbody>\n",
       "</table>\n",
       "<p>1044 rows × 5 columns</p>\n",
       "</div>"
      ],
      "text/plain": [
       "                                           course_title  course_rating  \\\n",
       "0                                       AI For Everyone            4.8   \n",
       "1                                  SQL for Data Science            4.6   \n",
       "2                                        Project Launch            4.7   \n",
       "3                                Digital Transformation            4.8   \n",
       "4                        Technical Support Fundamentals            4.8   \n",
       "...                                                 ...            ...   \n",
       "2506  Advanced Linear Models for Data Science 1: Lea...            4.4   \n",
       "2511                 Advanced Algorithms and Complexity            4.6   \n",
       "2512                      Big Data, Genes, and Medicine            4.2   \n",
       "2517         Big Data Applications: Real-Time Streaming            2.9   \n",
       "2518              Genome Assembly Programming Challenge            4.3   \n",
       "\n",
       "                                     course_description  \\\n",
       "0     ['AI is not only for engineers. If you want yo...   \n",
       "1     [\"As data collection has increased exponential...   \n",
       "2     ['Today’s fast track business and global envir...   \n",
       "3     ['Digital transformation is a hot topic--but w...   \n",
       "4     ['This course is the first of a series that ai...   \n",
       "...                                                 ...   \n",
       "2506  [\"Welcome to the Advanced Linear Models for Da...   \n",
       "2511  [\"You've learned the basic algorithms now and ...   \n",
       "2512  ['This course distills for you expert knowledg...   \n",
       "2517  ['There is a significant number of tasks when ...   \n",
       "2518  ['In Spring 2011, thousands of people in Germa...   \n",
       "\n",
       "                                            checked_job  \\\n",
       "0     [Machine Learning Engineers, Product Managers,...   \n",
       "1     [Business Analysts, Marketing Analysts, Risk M...   \n",
       "2     [Program Coordinators, Project Managers, Produ...   \n",
       "3     [Chief Financial Officers (CFOs), Operations M...   \n",
       "4     [IT Support, Customer Care Reps, Retailers, Te...   \n",
       "...                                                 ...   \n",
       "2506  [Scientists, Biologists, Economists, Traders, ...   \n",
       "2511  [Security Engineers, Software Engineers, Machi...   \n",
       "2512  [Researchers, Biostatisticians, Scientists, Bi...   \n",
       "2517  [Software Engineers, Machine Learning Engineer...   \n",
       "2518  [Software Engineers, Machine Learning Engineer...   \n",
       "\n",
       "                                          checked_skill  \n",
       "0     [Workflow of Machine Learning projects, AI ter...  \n",
       "1            [Data Science, Data Analysis, Sqlite, SQL]  \n",
       "2     [Project Management, Scope (Project Management...  \n",
       "3     [Technology Disruption, Digital Trends, Compet...  \n",
       "4     [Binary Code, Customer Support, Linux, Trouble...  \n",
       "...                                                 ...  \n",
       "2506  [Statistics, Linear Regression, R Programming,...  \n",
       "2511  [Python Programming, Linear Programming (LP), ...  \n",
       "2512  [Bioinformatics, Data Clustering Algorithms, B...  \n",
       "2517             [Kafka, NoSQL, Spark Streaming, Spark]  \n",
       "2518  [Data Structure, Algorithms, Algorithm Design,...  \n",
       "\n",
       "[1044 rows x 5 columns]"
      ]
     },
     "execution_count": 143,
     "metadata": {},
     "output_type": "execute_result"
    }
   ],
   "source": [
    "# drop rows with NaN skill and job \n",
    "df6 = df_total.dropna()\n",
    "df6"
   ]
  },
  {
   "cell_type": "code",
   "execution_count": 138,
   "metadata": {},
   "outputs": [],
   "source": []
  },
  {
   "cell_type": "code",
   "execution_count": null,
   "metadata": {},
   "outputs": [],
   "source": []
  }
 ],
 "metadata": {
  "kernelspec": {
   "display_name": "Python 3",
   "language": "python",
   "name": "python3"
  },
  "language_info": {
   "codemirror_mode": {
    "name": "ipython",
    "version": 3
   },
   "file_extension": ".py",
   "mimetype": "text/x-python",
   "name": "python",
   "nbconvert_exporter": "python",
   "pygments_lexer": "ipython3",
   "version": "3.7.4"
  }
 },
 "nbformat": 4,
 "nbformat_minor": 2
}
