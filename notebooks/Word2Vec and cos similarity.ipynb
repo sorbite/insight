{
 "cells": [
  {
   "cell_type": "code",
   "execution_count": 2,
   "metadata": {},
   "outputs": [],
   "source": [
    "import pandas as pd\n",
    "from gensim.models import Word2Vec"
   ]
  },
  {
   "cell_type": "code",
   "execution_count": 35,
   "metadata": {},
   "outputs": [],
   "source": [
    "def recommendation_function(job_title, row_in_job = 10, course_number = 10):\n",
    "    jobfile = job_title + '_processed.pkl'\n",
    "    df_course = pd.read_pickle(r'course_processed.pkl').reset_index(drop=True).rename(columns={'course_title': 'title', 'checked_skill': 'skillset'})\n",
    "    df_job = pd.read_pickle(jobfile).reset_index(drop=True).rename(columns={'checked_title': 'title'})\n",
    "    job_test = df_job.iloc[row_in_job]\n",
    "    print(job_test.iloc[0])\n",
    "    print(job_test.iloc[1])\n",
    "    df_cwb = df_course.append(job_test, ignore_index=True) # course with job(cwb)\n",
    "    df_cwb['title2'] = df_cwb.title.apply(lambda x: x+', ')\n",
    "    df_cwb.skillset = df_cwb.skillset.apply(lambda x: str(x))\n",
    "    df_cwb['test'] = df_cwb.title2 + df_cwb.skillset\n",
    "    df_cwb.test = df_cwb.test.apply(lambda x: list(\n",
    "        ''.join(list(filter(lambda ch: ch not in \"[]'\", x))).split(', ')))\n",
    "    test_list = df_cwb['test'].tolist()\n",
    "    model = Word2Vec(test_list, min_count=1, size=100,\n",
    "                     workers=1, window=3, sg=1, iter=30)\n",
    "    for i in range(0,course_number):\n",
    "        print((model.most_similar(df_job.title[row_in_job])[i]))\n",
    "    return "
   ]
  },
  {
   "cell_type": "code",
   "execution_count": 40,
   "metadata": {
    "scrolled": false
   },
   "outputs": [
    {
     "name": "stdout",
     "output_type": "stream",
     "text": [
      "Associate Data Scientist\n",
      "  /  , \"  You stay rooted with integrity for science but are not just about the numbers. You understand that for data to have true impact, it must answer a business question or address a business problem. Youre excited to bridge the gap between data and business and have experience presenting your results in a clear and concise manner.\", \" You get excited when given a large data set like its a present waiting to be unwrapped and are eager to dive right in. Your mind is full of past memories where youve used data models to discover new trends and correlations.\",  You’re excited to dive right in and get your hands dirty in the data. You’re not afraid to revise and retarget with feedback; you know progress often means iteration, and iteration can’t happen until you get started., \" Youre not afraid to experiment and test out new theories or models, even if they fail. Youve always got an eye out for new data tools and concepts that keeps you learning. Your creative mind allows you to break away from the status quo.\", \" You understand the importance of accurate data reporting and youll double and triple check key metrics before presenting your findings.\", Work with the Product team to measure feature usage and adoption, and uncover insights to guide future product investments., Work with the Client Success team to explore how recognition data relates to customer data and business metrics., Develop data models and algorithms to discover patterns and trends., Use a wide range of tools for your data mining and analysis needs., Test, validate, and refine your hypotheses with customer data., Prepare and present your findings to stakeholders, such as through white papers, infographics, presentations, or workshops., Explore and research new data tools and concepts., Support the vision of making Achievers and our customers smarter with data, through enabling data-driven decision-making and smarter actions in a variety of ways., H.BSc or M.S. degree preferred, with concentration in Statistics, Economics, Behavioural Sciences, applied sciences of any kind, or another quantitative field., Have 1-3 years experience analyzing product and/or SaaS client data., Have excellent knowledge of SQL/BI tools such as MicroStrategy or Tableau., Knowledge of machine learning methodologies/statistical modeling (regression, classification and unsupervised approaches), Strong programming skills, with a preference for Python., Data presentation and visualization skills., Have a strong background in quantitative thinking, experimental design, data analysis, statistical analysis (regression, factor analysis, etc.)., Are fluent in desktop applications (Excel, Office 365)., Have a deep appreciation for scientific and data integrity, attention to detail, and a client/end-user focus., Are a self-starter with a sense of urgency, solution-orientation, and ability to pivot to address feedback and changing priorities.,  \n",
      "('Functional Programming in Scala Capstone', 0.31278473138809204)\n",
      "('project management project planning project planning', 0.3117307126522064)\n",
      "('A Crash Course in Causality:  Inferring Causal Effects from Observational Data', 0.3000395894050598)\n",
      "('Data Visualization with Python', 0.2958672046661377)\n",
      "('The Importance of Listening', 0.290395051240921)\n"
     ]
    },
    {
     "name": "stderr",
     "output_type": "stream",
     "text": [
      "/home/xinda/anaconda3/envs/insight/lib/python3.7/site-packages/ipykernel_launcher.py:18: DeprecationWarning: Call to deprecated `most_similar` (Method will be removed in 4.0.0, use self.wv.most_similar() instead).\n"
     ]
    }
   ],
   "source": [
    "# Example\n",
    "recommendation_function('Data Scientist' , row_in_job = 45, course_number = 5)"
   ]
  },
  {
   "cell_type": "code",
   "execution_count": null,
   "metadata": {},
   "outputs": [],
   "source": []
  }
 ],
 "metadata": {
  "kernelspec": {
   "display_name": "Python 3",
   "language": "python",
   "name": "python3"
  },
  "language_info": {
   "codemirror_mode": {
    "name": "ipython",
    "version": 3
   },
   "file_extension": ".py",
   "mimetype": "text/x-python",
   "name": "python",
   "nbconvert_exporter": "python",
   "pygments_lexer": "ipython3",
   "version": "3.7.4"
  }
 },
 "nbformat": 4,
 "nbformat_minor": 2
}
